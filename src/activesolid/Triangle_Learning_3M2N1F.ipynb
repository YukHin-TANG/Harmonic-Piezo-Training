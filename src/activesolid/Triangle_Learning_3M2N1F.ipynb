{
 "cells": [
  {
   "cell_type": "code",
   "execution_count": 1,
   "id": "initial_id",
   "metadata": {
    "collapsed": true,
    "ExecuteTime": {
     "end_time": "2024-01-15T04:31:26.782123823Z",
     "start_time": "2024-01-15T04:31:26.613994053Z"
    }
   },
   "outputs": [],
   "source": [
    "from transient_piezo_truss import * \n",
    "import matplotlib.pyplot as plt "
   ]
  },
  {
   "cell_type": "code",
   "outputs": [],
   "source": [
    "# Create a static_piezo_truss object\n",
    "M, N = 3, 2\n",
    "freq = [5]\n",
    "transient_piezo_truss = TransientPiezoTruss(size=(M, N), freq=freq)\n",
    "# Plot the structure\n",
    "UNodes_free = [0, 1, 2*M-1]\n",
    "u_free = [[[0, 0]], [[0, 0]], [[0, 0]]]\n",
    "#\n",
    "UNodes_clamped = [0, 1, 4, 2*M-1,]\n",
    "u_clamped = [[[0, 0]], [[0, 0]], [[1E-7, 0]], [[0, 0]]]\n",
    "#\n",
    "T = np.linspace(0, 1, 1000)\n",
    "N = len(T) // 2\n",
    "Vol = np.ones((len(transient_piezo_truss.edges), len(freq), 2)) * 10\n",
    "Vol[:, :, 1] = 0\n",
    "#\n",
    "Epoch = 25\n",
    "lr = 1E9\n",
    "# Vol = np.ones((len(transient_piezo_truss.edges), len(freq), 2)) * 10\n",
    "for i in tqdm.tqdm(range(Epoch)):\n",
    "    #\n",
    "    transient_piezo_truss.solve(T, UNodes_free, u_free, V=Vol)\n",
    "    Q_free = transient_piezo_truss.calQ.copy()\n",
    "    #\n",
    "    transient_piezo_truss.solve(T, UNodes_clamped, u_clamped, V=Vol)\n",
    "    Q_clamped = transient_piezo_truss.calQ.copy()\n",
    "    #\n",
    "    for n, fq in enumerate(freq):\n",
    "        Q_free_sin = 2 * Q_free[:, N:] @ np.sin(fq * 2 * np.pi * T[N:]) / len(T[N:])\n",
    "        Q_free_cos = 2 * Q_free[:, N:] @ np.cos(fq * 2 * np.pi * T[N:]) / len(T[N:])\n",
    "        #\n",
    "        Q_clamped_sin = 2 * Q_clamped[:, N:] @ np.sin(fq * 2 * np.pi * T[N:]) / len(T[N:])\n",
    "        Q_clamped_cos = 2 * Q_clamped[:, N:] @ np.cos(fq * 2 * np.pi * T[N:]) / len(T[N:])\n",
    "        #\n",
    "        Vol[:, n, 0] += lr * (Q_clamped_sin - Q_free_sin)\n",
    "        Vol[:, n, 1] += lr * (Q_clamped_cos - Q_free_cos)"
   ],
   "metadata": {
    "collapsed": false
   },
   "id": "67f69ad691f4f432"
  }
 ],
 "metadata": {
  "kernelspec": {
   "display_name": "Python 3",
   "language": "python",
   "name": "python3"
  },
  "language_info": {
   "codemirror_mode": {
    "name": "ipython",
    "version": 2
   },
   "file_extension": ".py",
   "mimetype": "text/x-python",
   "name": "python",
   "nbconvert_exporter": "python",
   "pygments_lexer": "ipython2",
   "version": "2.7.6"
  }
 },
 "nbformat": 4,
 "nbformat_minor": 5
}
