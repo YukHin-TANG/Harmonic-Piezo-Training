{
 "cells": [
  {
   "cell_type": "code",
   "execution_count": 1,
   "id": "initial_id",
   "metadata": {
    "collapsed": true,
    "ExecuteTime": {
     "end_time": "2024-01-12T09:42:19.748976457Z",
     "start_time": "2024-01-12T09:42:19.255443228Z"
    }
   },
   "outputs": [],
   "source": [
    "import matplotlib.pyplot as plt\n",
    "import numpy as np\n",
    "import pandas as pd\n",
    "import sympy "
   ]
  },
  {
   "cell_type": "code",
   "outputs": [],
   "source": [],
   "metadata": {
    "collapsed": false
   },
   "id": "7b1d12c60497aa2e"
  },
  {
   "cell_type": "code",
   "execution_count": 2,
   "id": "cab31919996f43ea",
   "metadata": {
    "collapsed": false,
    "ExecuteTime": {
     "end_time": "2024-01-12T09:42:19.749959291Z",
     "start_time": "2024-01-12T09:42:19.742286854Z"
    }
   },
   "outputs": [
    {
     "data": {
      "text/plain": "          0        1         2        3        4         5\n0  120000.0  40000.0 -100000.0      0.0 -20000.0  -40000.0\n1   40000.0  80000.0       0.0      0.0 -40000.0  -80000.0\n2 -100000.0      0.0  120000.0 -40000.0 -20000.0   40000.0\n3       0.0      0.0  -40000.0  80000.0  40000.0  -80000.0\n4  -20000.0 -40000.0  -20000.0  40000.0  40000.0       0.0\n5  -40000.0 -80000.0   40000.0 -80000.0      0.0  160000.0",
      "text/html": "<div>\n<style scoped>\n    .dataframe tbody tr th:only-of-type {\n        vertical-align: middle;\n    }\n\n    .dataframe tbody tr th {\n        vertical-align: top;\n    }\n\n    .dataframe thead th {\n        text-align: right;\n    }\n</style>\n<table border=\"1\" class=\"dataframe\">\n  <thead>\n    <tr style=\"text-align: right;\">\n      <th></th>\n      <th>0</th>\n      <th>1</th>\n      <th>2</th>\n      <th>3</th>\n      <th>4</th>\n      <th>5</th>\n    </tr>\n  </thead>\n  <tbody>\n    <tr>\n      <th>0</th>\n      <td>120000.0</td>\n      <td>40000.0</td>\n      <td>-100000.0</td>\n      <td>0.0</td>\n      <td>-20000.0</td>\n      <td>-40000.0</td>\n    </tr>\n    <tr>\n      <th>1</th>\n      <td>40000.0</td>\n      <td>80000.0</td>\n      <td>0.0</td>\n      <td>0.0</td>\n      <td>-40000.0</td>\n      <td>-80000.0</td>\n    </tr>\n    <tr>\n      <th>2</th>\n      <td>-100000.0</td>\n      <td>0.0</td>\n      <td>120000.0</td>\n      <td>-40000.0</td>\n      <td>-20000.0</td>\n      <td>40000.0</td>\n    </tr>\n    <tr>\n      <th>3</th>\n      <td>0.0</td>\n      <td>0.0</td>\n      <td>-40000.0</td>\n      <td>80000.0</td>\n      <td>40000.0</td>\n      <td>-80000.0</td>\n    </tr>\n    <tr>\n      <th>4</th>\n      <td>-20000.0</td>\n      <td>-40000.0</td>\n      <td>-20000.0</td>\n      <td>40000.0</td>\n      <td>40000.0</td>\n      <td>0.0</td>\n    </tr>\n    <tr>\n      <th>5</th>\n      <td>-40000.0</td>\n      <td>-80000.0</td>\n      <td>40000.0</td>\n      <td>-80000.0</td>\n      <td>0.0</td>\n      <td>160000.0</td>\n    </tr>\n  </tbody>\n</table>\n</div>"
     },
     "metadata": {},
     "output_type": "display_data"
    },
    {
     "data": {
      "text/plain": "           0          1          2          3         4          5\n0  15.178933   5.059644 -12.649111   0.000000 -2.529822  -5.059644\n1   5.059644  10.119289   0.000000   0.000000 -5.059644 -10.119289\n2 -12.649111   0.000000  15.178933  -5.059644 -2.529822   5.059644\n3   0.000000   0.000000  -5.059644  10.119289  5.059644 -10.119289\n4  -2.529822  -5.059644  -2.529822   5.059644  5.059644   0.000000\n5  -5.059644 -10.119289   5.059644 -10.119289  0.000000  20.238577",
      "text/html": "<div>\n<style scoped>\n    .dataframe tbody tr th:only-of-type {\n        vertical-align: middle;\n    }\n\n    .dataframe tbody tr th {\n        vertical-align: top;\n    }\n\n    .dataframe thead th {\n        text-align: right;\n    }\n</style>\n<table border=\"1\" class=\"dataframe\">\n  <thead>\n    <tr style=\"text-align: right;\">\n      <th></th>\n      <th>0</th>\n      <th>1</th>\n      <th>2</th>\n      <th>3</th>\n      <th>4</th>\n      <th>5</th>\n    </tr>\n  </thead>\n  <tbody>\n    <tr>\n      <th>0</th>\n      <td>15.178933</td>\n      <td>5.059644</td>\n      <td>-12.649111</td>\n      <td>0.000000</td>\n      <td>-2.529822</td>\n      <td>-5.059644</td>\n    </tr>\n    <tr>\n      <th>1</th>\n      <td>5.059644</td>\n      <td>10.119289</td>\n      <td>0.000000</td>\n      <td>0.000000</td>\n      <td>-5.059644</td>\n      <td>-10.119289</td>\n    </tr>\n    <tr>\n      <th>2</th>\n      <td>-12.649111</td>\n      <td>0.000000</td>\n      <td>15.178933</td>\n      <td>-5.059644</td>\n      <td>-2.529822</td>\n      <td>5.059644</td>\n    </tr>\n    <tr>\n      <th>3</th>\n      <td>0.000000</td>\n      <td>0.000000</td>\n      <td>-5.059644</td>\n      <td>10.119289</td>\n      <td>5.059644</td>\n      <td>-10.119289</td>\n    </tr>\n    <tr>\n      <th>4</th>\n      <td>-2.529822</td>\n      <td>-5.059644</td>\n      <td>-2.529822</td>\n      <td>5.059644</td>\n      <td>5.059644</td>\n      <td>0.000000</td>\n    </tr>\n    <tr>\n      <th>5</th>\n      <td>-5.059644</td>\n      <td>-10.119289</td>\n      <td>5.059644</td>\n      <td>-10.119289</td>\n      <td>0.000000</td>\n      <td>20.238577</td>\n    </tr>\n  </tbody>\n</table>\n</div>"
     },
     "metadata": {},
     "output_type": "display_data"
    },
    {
     "data": {
      "text/plain": "      0     1     2     3     4     5\n0  0.01  0.00  0.00  0.00  0.00  0.00\n1  0.00  0.01  0.00  0.00  0.00  0.00\n2  0.00  0.00  0.01  0.00  0.00  0.00\n3  0.00  0.00  0.00  0.01  0.00  0.00\n4  0.00  0.00  0.00  0.00  0.01  0.00\n5  0.00  0.00  0.00  0.00  0.00  0.01",
      "text/html": "<div>\n<style scoped>\n    .dataframe tbody tr th:only-of-type {\n        vertical-align: middle;\n    }\n\n    .dataframe tbody tr th {\n        vertical-align: top;\n    }\n\n    .dataframe thead th {\n        text-align: right;\n    }\n</style>\n<table border=\"1\" class=\"dataframe\">\n  <thead>\n    <tr style=\"text-align: right;\">\n      <th></th>\n      <th>0</th>\n      <th>1</th>\n      <th>2</th>\n      <th>3</th>\n      <th>4</th>\n      <th>5</th>\n    </tr>\n  </thead>\n  <tbody>\n    <tr>\n      <th>0</th>\n      <td>0.01</td>\n      <td>0.00</td>\n      <td>0.00</td>\n      <td>0.00</td>\n      <td>0.00</td>\n      <td>0.00</td>\n    </tr>\n    <tr>\n      <th>1</th>\n      <td>0.00</td>\n      <td>0.01</td>\n      <td>0.00</td>\n      <td>0.00</td>\n      <td>0.00</td>\n      <td>0.00</td>\n    </tr>\n    <tr>\n      <th>2</th>\n      <td>0.00</td>\n      <td>0.00</td>\n      <td>0.01</td>\n      <td>0.00</td>\n      <td>0.00</td>\n      <td>0.00</td>\n    </tr>\n    <tr>\n      <th>3</th>\n      <td>0.00</td>\n      <td>0.00</td>\n      <td>0.00</td>\n      <td>0.01</td>\n      <td>0.00</td>\n      <td>0.00</td>\n    </tr>\n    <tr>\n      <th>4</th>\n      <td>0.00</td>\n      <td>0.00</td>\n      <td>0.00</td>\n      <td>0.00</td>\n      <td>0.01</td>\n      <td>0.00</td>\n    </tr>\n    <tr>\n      <th>5</th>\n      <td>0.00</td>\n      <td>0.00</td>\n      <td>0.00</td>\n      <td>0.00</td>\n      <td>0.00</td>\n      <td>0.01</td>\n    </tr>\n  </tbody>\n</table>\n</div>"
     },
     "metadata": {},
     "output_type": "display_data"
    }
   ],
   "source": [
    "# 1.1\n",
    "m, eta = 1E-2, 0.2\n",
    "kij = 1E5\n",
    "cij = 2 * eta * np.sqrt(kij * m)\n",
    "pts = np.array([[0, 0], [1, 0], [0.5, 1]])\n",
    "edges = np.array([[0, 1], [1, 2], [0, 2]])\n",
    "# length of the spring, cos(theta), sin(theta)\n",
    "Kij = np.zeros((len(pts)*2, len(pts)*2))\n",
    "Cij = np.zeros((len(pts)*2, len(pts)*2))\n",
    "Mij = np.eye(len(pts)*2) * m\n",
    "# Mij = np.zeros((len(pts)*2, len(pts)*2))\n",
    "for p, q in edges:\n",
    "    l = np.linalg.norm(pts[p] - pts[q])\n",
    "    c = (pts[p, 0] - pts[q, 0]) / l\n",
    "    s = (pts[p, 1] - pts[q, 1]) / l\n",
    "    # print(f\"l_{n} = {l:.2f}, c_{n} = {c:.2f}, s_{n} = {s:.2f}\")\n",
    "    A = np.array([  [c**2, c * s],\n",
    "                    [c * s, s**2]])\n",
    "#\n",
    "    Kij[2*p:(2*p+2), 2*p:(2*p+2)] += +A * kij\n",
    "    Kij[2*q:(2*q+2), 2*q:(2*q+2)] += +A * kij\n",
    "    Kij[2*p:(2*p+2), 2*q:(2*q+2)] += -A * kij\n",
    "    Kij[2*q:(2*q+2), 2*p:(2*p+2)] += -A * kij\n",
    "#\n",
    "    Cij[2*p:(2*p+2), 2*p:(2*p+2)] += +A * cij\n",
    "    Cij[2*q:(2*q+2), 2*q:(2*q+2)] += +A * cij\n",
    "    Cij[2*p:(2*p+2), 2*q:(2*q+2)] += -A * cij\n",
    "    Cij[2*q:(2*q+2), 2*p:(2*p+2)] += -A * cij\n",
    "    # Mij[2*n:(2*n+4), 2*n:(2*n+4)] = np.array([[1, 0, 0, 0],\n",
    "    #                                             [0, 1, 0, 0],\n",
    "    #                                             [0, 0, 1, 0],\n",
    "    #                                             [0, 0, 0, 1]]) * m\n",
    "# \n",
    "display(pd.DataFrame(Kij))\n",
    "display(pd.DataFrame(Cij))\n",
    "display(pd.DataFrame(Mij))"
   ]
  },
  {
   "cell_type": "code",
   "execution_count": 3,
   "id": "ca16e51b98a6bda6",
   "metadata": {
    "collapsed": false,
    "ExecuteTime": {
     "end_time": "2024-01-12T09:42:19.750328667Z",
     "start_time": "2024-01-12T09:42:19.742678710Z"
    }
   },
   "outputs": [
    {
     "name": "stdout",
     "output_type": "stream",
     "text": [
      "[[120000. -20000.  40000.]\n",
      " [-20000.  40000.      0.]\n",
      " [ 40000.      0. 160000.]]\n",
      "[[15.17893277 -2.52982213  5.05964426]\n",
      " [-2.52982213  5.05964426  0.        ]\n",
      " [ 5.05964426  0.         20.23857703]]\n",
      "[[0.01 0.   0.  ]\n",
      " [0.   0.01 0.  ]\n",
      " [0.   0.   0.01]]\n"
     ]
    }
   ],
   "source": [
    "node_state = [True] * len(pts) * 2\n",
    "node_state[0] = False\n",
    "node_state[1] = False\n",
    "node_state[3] = False\n",
    "Kff = Kij[node_state][:, node_state]\n",
    "\n",
    "Cff = Cij[node_state][:, node_state]\n",
    "Mff = Mij[node_state][:, node_state]\n",
    "print(Kff)\n",
    "print(Cff)\n",
    "print(Mff)"
   ]
  },
  {
   "cell_type": "code",
   "execution_count": 4,
   "id": "c7a76272d684db0a",
   "metadata": {
    "collapsed": false,
    "ExecuteTime": {
     "end_time": "2024-01-12T09:42:19.750549Z",
     "start_time": "2024-01-12T09:42:19.742987945Z"
    }
   },
   "outputs": [],
   "source": [
    "# y = np.array([[0, 0, np.nan, np.nan, np.nan, np.nan],\n",
    "#               [0, 0, np.nan, np.nan, np.nan, np.nan]]).flatten()\n",
    "# print(y)"
   ]
  },
  {
   "cell_type": "code",
   "execution_count": 5,
   "id": "36d30f8e3bfaef60",
   "metadata": {
    "collapsed": false,
    "ExecuteTime": {
     "end_time": "2024-01-12T09:42:19.750776470Z",
     "start_time": "2024-01-12T09:42:19.743113819Z"
    }
   },
   "outputs": [],
   "source": [
    "# fixed_node = (y.reshape(2, -1)[0] == 0)\n",
    "# print(fixed_node)\n",
    "# free_node = ~fixed_node\n",
    "# #\n",
    "# Kff = Kij[free_node][:, free_node]\n",
    "# Cff = Cij[free_node][:, free_node]\n",
    "# Mff = Mij[free_node][:, free_node]\n",
    "# #\n",
    "# print(Kff)\n",
    "# print(Cff)\n",
    "# print(Mff)\n"
   ]
  },
  {
   "cell_type": "code",
   "execution_count": 6,
   "id": "157b3b29b522c540",
   "metadata": {
    "collapsed": false,
    "ExecuteTime": {
     "end_time": "2024-01-12T09:42:19.751021516Z",
     "start_time": "2024-01-12T09:42:19.743219235Z"
    }
   },
   "outputs": [
    {
     "name": "stdout",
     "output_type": "stream",
     "text": [
      "[0. 1. 0.]\n"
     ]
    }
   ],
   "source": [
    "Ft = np.zeros((len(pts)*2-3, ))\n",
    "Ft[-2] = 1\n",
    "print(Ft)"
   ]
  },
  {
   "cell_type": "code",
   "execution_count": 7,
   "id": "4ecc8e22db8ecc0d",
   "metadata": {
    "collapsed": false,
    "ExecuteTime": {
     "end_time": "2024-01-12T09:42:19.751424867Z",
     "start_time": "2024-01-12T09:42:19.743335831Z"
    }
   },
   "outputs": [],
   "source": [
    "def ode(t, y, K, C, M):\n",
    "    #\n",
    "    u = y.reshape(2, -1)[0]\n",
    "    du = y.reshape(2, -1)[1]\n",
    "    #\n",
    "    ddu = np.linalg.solve(M, Ft-np.dot(C, du) - np.dot(K, u))\n",
    "    \n",
    "    return np.concatenate([du, ddu])\n"
   ]
  },
  {
   "cell_type": "code",
   "execution_count": 8,
   "id": "121e229d53cefae8",
   "metadata": {
    "collapsed": false,
    "ExecuteTime": {
     "end_time": "2024-01-12T09:42:19.753160852Z",
     "start_time": "2024-01-12T09:42:19.744683675Z"
    }
   },
   "outputs": [],
   "source": [
    "# 固定点抹去，只能求解力的响应，拼接方式和刚度矩阵一致"
   ]
  },
  {
   "cell_type": "code",
   "execution_count": 9,
   "id": "8b6c9032c7260d1c",
   "metadata": {
    "collapsed": false,
    "ExecuteTime": {
     "end_time": "2024-01-12T09:42:19.956691651Z",
     "start_time": "2024-01-12T09:42:19.752164849Z"
    }
   },
   "outputs": [],
   "source": [
    "from scipy.integrate import solve_ivp\n",
    "y0 = np.zeros((len(pts)*2*2-6))\n",
    "sol = solve_ivp(lambda __t, __y: ode(__t, __y, Kff, Cff, Mff), [0, .1], y0=y0, t_eval=np.linspace(0, .1, 1000))"
   ]
  },
  {
   "cell_type": "code",
   "execution_count": 13,
   "id": "2deb91a9ded6a6b1",
   "metadata": {
    "collapsed": false,
    "ExecuteTime": {
     "end_time": "2024-01-12T09:42:41.768440332Z",
     "start_time": "2024-01-12T09:42:41.716981360Z"
    }
   },
   "outputs": [
    {
     "name": "stdout",
     "output_type": "stream",
     "text": [
      "5.000603212373938e-06\n"
     ]
    },
    {
     "data": {
      "text/plain": "<Figure size 640x480 with 1 Axes>",
      "image/png": "[encoded data removed]"
     },
     "metadata": {},
     "output_type": "display_data"
    }
   ],
   "source": [
    "import matplotlib.pyplot as plt\n",
    "\n",
    "plt.plot(sol.t, sol.y[0])\n",
    "print(sol.y[0, -2])\n",
    "# plt.plot(sol.t, sol.y[4])\n",
    "plt.show()"
   ]
  },
  {
   "cell_type": "code",
   "execution_count": 11,
   "id": "6b3033f0cbe099e1",
   "metadata": {
    "collapsed": false,
    "ExecuteTime": {
     "end_time": "2024-01-12T09:42:20.062956192Z",
     "start_time": "2024-01-12T09:42:20.050150300Z"
    }
   },
   "outputs": [
    {
     "data": {
      "text/plain": "<Figure size 640x480 with 1 Axes>",
      "image/png": "[encoded data removed]"
     },
     "metadata": {},
     "output_type": "display_data"
    }
   ],
   "source": [
    "import numpy as np\n",
    "import matplotlib.pyplot as plt\n",
    "import scipy \n",
    "\n",
    "# 定义系统参数\n",
    "M = np.diag([1, 1])  # 质量矩阵\n",
    "K = np.diag([100, 100])  # 刚度矩阵\n",
    "C = np.diag([10, 10])  # 阻尼矩阵\n",
    "F = np.zeros((2, ))  # 外力向量\n",
    "\n",
    "# 建立运动方程\n",
    "A = np.block([[np.zeros((2, 2)), np.eye(2)], [-np.linalg.inv(M) @ K, -np.linalg.inv(M) @ C]])\n",
    "B = np.block([[np.zeros((2, 2))], [np.linalg.inv(M)]])\n",
    "\n",
    "# 求解运动方程\n",
    "t = np.linspace(0, 10, 1000)  # 时间范围\n",
    "x0 = np.zeros((4, ))  # 初始条件\n",
    "X= scipy.integrate.odeint(lambda x, t: np.dot(A, x) + np.dot(B, F), x0, t, rtol=1e-6, atol=1e-8)\n",
    "\n",
    "# 分析系统动力学\n",
    "plt.plot(t, X[:, 0], label='x1')\n",
    "plt.plot(t, X[:, 1], label='x2')\n",
    "plt.xlabel('Time (s)')\n",
    "plt.ylabel('Displacement (m)')\n",
    "plt.legend()\n",
    "plt.show()"
   ]
  },
  {
   "cell_type": "code",
   "execution_count": 11,
   "id": "f032b1564e51b26c",
   "metadata": {
    "collapsed": false,
    "ExecuteTime": {
     "end_time": "2024-01-12T09:42:20.063294367Z",
     "start_time": "2024-01-12T09:42:20.060326638Z"
    }
   },
   "outputs": [],
   "source": []
  },
  {
   "cell_type": "code",
   "execution_count": 12,
   "id": "f83090c3",
   "metadata": {
    "ExecuteTime": {
     "end_time": "2024-01-12T09:42:20.120823526Z",
     "start_time": "2024-01-12T09:42:20.062468525Z"
    }
   },
   "outputs": [
    {
     "name": "stdout",
     "output_type": "stream",
     "text": [
      "(6, 1000)\n"
     ]
    }
   ],
   "source": [
    "print(sol.y.shape)"
   ]
  },
  {
   "cell_type": "code",
   "execution_count": 12,
   "id": "4b6608ea",
   "metadata": {
    "ExecuteTime": {
     "end_time": "2024-01-12T09:42:20.121733450Z",
     "start_time": "2024-01-12T09:42:20.106281689Z"
    }
   },
   "outputs": [],
   "source": []
  }
 ],
 "metadata": {
  "kernelspec": {
   "display_name": "Python 3",
   "language": "python",
   "name": "python3"
  },
  "language_info": {
   "codemirror_mode": {
    "name": "ipython",
    "version": 3
   },
   "file_extension": ".py",
   "mimetype": "text/x-python",
   "name": "python",
   "nbconvert_exporter": "python",
   "pygments_lexer": "ipython3",
   "version": "3.11.5"
  }
 },
 "nbformat": 4,
 "nbformat_minor": 5
}
