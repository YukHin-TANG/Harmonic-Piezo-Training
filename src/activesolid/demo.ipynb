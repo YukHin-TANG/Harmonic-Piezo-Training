{
 "cells": [
  {
   "cell_type": "code",
   "execution_count": 1,
   "id": "initial_id",
   "metadata": {
    "collapsed": true,
    "ExecuteTime": {
     "end_time": "2024-01-14T08:45:24.745423288Z",
     "start_time": "2024-01-14T08:45:24.201742782Z"
    }
   },
   "outputs": [],
   "source": [
    "import matplotlib.pyplot as plt\n",
    "import numpy as np\n",
    "import pandas as pd\n",
    "import sympy \n",
    "import pygmsh"
   ]
  },
  {
   "cell_type": "code",
   "outputs": [
    {
     "data": {
      "text/plain": "<Figure size 640x480 with 1 Axes>",
      "image/png": "[encoded data removed]"
     },
     "metadata": {},
     "output_type": "display_data"
    }
   ],
   "source": [
    "import matplotlib.pyplot as plt\n",
    "#\n",
    "plt.axis('equal')\n",
    "edges = [[0, 1], [1, 2] ]\n",
    "pts = [[.0, .0], [.1, .0], [.2, .0]]\n",
    "#\n",
    "plt.plot(np.array(pts)[:, 0], np.array(pts)[:, 1], 'o', markersize=10)\n",
    "for i, j in edges:\n",
    "    plt.plot(np.array(pts)[[i, j], 0], np.array(pts)[[i, j], 1], 'k:')\n",
    "plt.show()"
   ],
   "metadata": {
    "collapsed": false,
    "ExecuteTime": {
     "end_time": "2024-01-14T08:45:24.870747508Z",
     "start_time": "2024-01-14T08:45:24.738008525Z"
    }
   },
   "id": "da80b9eb36148f9e",
   "execution_count": 2
  },
  {
   "cell_type": "code",
   "execution_count": 3,
   "id": "cab31919996f43ea",
   "metadata": {
    "collapsed": false,
    "ExecuteTime": {
     "end_time": "2024-01-14T08:45:24.883711416Z",
     "start_time": "2024-01-14T08:45:24.871950902Z"
    }
   },
   "outputs": [
    {
     "data": {
      "text/plain": "          0    1         2    3         4    5\n0  100000.0  0.0 -100000.0  0.0       0.0  0.0\n1       0.0  0.0       0.0  0.0       0.0  0.0\n2 -100000.0  0.0  200000.0  0.0 -100000.0  0.0\n3       0.0  0.0       0.0  0.0       0.0  0.0\n4       0.0  0.0 -100000.0  0.0  100000.0  0.0\n5       0.0  0.0       0.0  0.0       0.0  0.0",
      "text/html": "<div>\n<style scoped>\n    .dataframe tbody tr th:only-of-type {\n        vertical-align: middle;\n    }\n\n    .dataframe tbody tr th {\n        vertical-align: top;\n    }\n\n    .dataframe thead th {\n        text-align: right;\n    }\n</style>\n<table border=\"1\" class=\"dataframe\">\n  <thead>\n    <tr style=\"text-align: right;\">\n      <th></th>\n      <th>0</th>\n      <th>1</th>\n      <th>2</th>\n      <th>3</th>\n      <th>4</th>\n      <th>5</th>\n    </tr>\n  </thead>\n  <tbody>\n    <tr>\n      <th>0</th>\n      <td>100000.0</td>\n      <td>0.0</td>\n      <td>-100000.0</td>\n      <td>0.0</td>\n      <td>0.0</td>\n      <td>0.0</td>\n    </tr>\n    <tr>\n      <th>1</th>\n      <td>0.0</td>\n      <td>0.0</td>\n      <td>0.0</td>\n      <td>0.0</td>\n      <td>0.0</td>\n      <td>0.0</td>\n    </tr>\n    <tr>\n      <th>2</th>\n      <td>-100000.0</td>\n      <td>0.0</td>\n      <td>200000.0</td>\n      <td>0.0</td>\n      <td>-100000.0</td>\n      <td>0.0</td>\n    </tr>\n    <tr>\n      <th>3</th>\n      <td>0.0</td>\n      <td>0.0</td>\n      <td>0.0</td>\n      <td>0.0</td>\n      <td>0.0</td>\n      <td>0.0</td>\n    </tr>\n    <tr>\n      <th>4</th>\n      <td>0.0</td>\n      <td>0.0</td>\n      <td>-100000.0</td>\n      <td>0.0</td>\n      <td>100000.0</td>\n      <td>0.0</td>\n    </tr>\n    <tr>\n      <th>5</th>\n      <td>0.0</td>\n      <td>0.0</td>\n      <td>0.0</td>\n      <td>0.0</td>\n      <td>0.0</td>\n      <td>0.0</td>\n    </tr>\n  </tbody>\n</table>\n</div>"
     },
     "metadata": {},
     "output_type": "display_data"
    },
    {
     "data": {
      "text/plain": "           0    1          2    3          4    5\n0  12.649111  0.0 -12.649111  0.0   0.000000  0.0\n1   0.000000  0.0   0.000000  0.0   0.000000  0.0\n2 -12.649111  0.0  25.298221  0.0 -12.649111  0.0\n3   0.000000  0.0   0.000000  0.0   0.000000  0.0\n4   0.000000  0.0 -12.649111  0.0  12.649111  0.0\n5   0.000000  0.0   0.000000  0.0   0.000000  0.0",
      "text/html": "<div>\n<style scoped>\n    .dataframe tbody tr th:only-of-type {\n        vertical-align: middle;\n    }\n\n    .dataframe tbody tr th {\n        vertical-align: top;\n    }\n\n    .dataframe thead th {\n        text-align: right;\n    }\n</style>\n<table border=\"1\" class=\"dataframe\">\n  <thead>\n    <tr style=\"text-align: right;\">\n      <th></th>\n      <th>0</th>\n      <th>1</th>\n      <th>2</th>\n      <th>3</th>\n      <th>4</th>\n      <th>5</th>\n    </tr>\n  </thead>\n  <tbody>\n    <tr>\n      <th>0</th>\n      <td>12.649111</td>\n      <td>0.0</td>\n      <td>-12.649111</td>\n      <td>0.0</td>\n      <td>0.000000</td>\n      <td>0.0</td>\n    </tr>\n    <tr>\n      <th>1</th>\n      <td>0.000000</td>\n      <td>0.0</td>\n      <td>0.000000</td>\n      <td>0.0</td>\n      <td>0.000000</td>\n      <td>0.0</td>\n    </tr>\n    <tr>\n      <th>2</th>\n      <td>-12.649111</td>\n      <td>0.0</td>\n      <td>25.298221</td>\n      <td>0.0</td>\n      <td>-12.649111</td>\n      <td>0.0</td>\n    </tr>\n    <tr>\n      <th>3</th>\n      <td>0.000000</td>\n      <td>0.0</td>\n      <td>0.000000</td>\n      <td>0.0</td>\n      <td>0.000000</td>\n      <td>0.0</td>\n    </tr>\n    <tr>\n      <th>4</th>\n      <td>0.000000</td>\n      <td>0.0</td>\n      <td>-12.649111</td>\n      <td>0.0</td>\n      <td>12.649111</td>\n      <td>0.0</td>\n    </tr>\n    <tr>\n      <th>5</th>\n      <td>0.000000</td>\n      <td>0.0</td>\n      <td>0.000000</td>\n      <td>0.0</td>\n      <td>0.000000</td>\n      <td>0.0</td>\n    </tr>\n  </tbody>\n</table>\n</div>"
     },
     "metadata": {},
     "output_type": "display_data"
    },
    {
     "data": {
      "text/plain": "      0     1     2     3     4     5\n0  0.01  0.00  0.00  0.00  0.00  0.00\n1  0.00  0.01  0.00  0.00  0.00  0.00\n2  0.00  0.00  0.01  0.00  0.00  0.00\n3  0.00  0.00  0.00  0.01  0.00  0.00\n4  0.00  0.00  0.00  0.00  0.01  0.00\n5  0.00  0.00  0.00  0.00  0.00  0.01",
      "text/html": "<div>\n<style scoped>\n    .dataframe tbody tr th:only-of-type {\n        vertical-align: middle;\n    }\n\n    .dataframe tbody tr th {\n        vertical-align: top;\n    }\n\n    .dataframe thead th {\n        text-align: right;\n    }\n</style>\n<table border=\"1\" class=\"dataframe\">\n  <thead>\n    <tr style=\"text-align: right;\">\n      <th></th>\n      <th>0</th>\n      <th>1</th>\n      <th>2</th>\n      <th>3</th>\n      <th>4</th>\n      <th>5</th>\n    </tr>\n  </thead>\n  <tbody>\n    <tr>\n      <th>0</th>\n      <td>0.01</td>\n      <td>0.00</td>\n      <td>0.00</td>\n      <td>0.00</td>\n      <td>0.00</td>\n      <td>0.00</td>\n    </tr>\n    <tr>\n      <th>1</th>\n      <td>0.00</td>\n      <td>0.01</td>\n      <td>0.00</td>\n      <td>0.00</td>\n      <td>0.00</td>\n      <td>0.00</td>\n    </tr>\n    <tr>\n      <th>2</th>\n      <td>0.00</td>\n      <td>0.00</td>\n      <td>0.01</td>\n      <td>0.00</td>\n      <td>0.00</td>\n      <td>0.00</td>\n    </tr>\n    <tr>\n      <th>3</th>\n      <td>0.00</td>\n      <td>0.00</td>\n      <td>0.00</td>\n      <td>0.01</td>\n      <td>0.00</td>\n      <td>0.00</td>\n    </tr>\n    <tr>\n      <th>4</th>\n      <td>0.00</td>\n      <td>0.00</td>\n      <td>0.00</td>\n      <td>0.00</td>\n      <td>0.01</td>\n      <td>0.00</td>\n    </tr>\n    <tr>\n      <th>5</th>\n      <td>0.00</td>\n      <td>0.00</td>\n      <td>0.00</td>\n      <td>0.00</td>\n      <td>0.00</td>\n      <td>0.01</td>\n    </tr>\n  </tbody>\n</table>\n</div>"
     },
     "metadata": {},
     "output_type": "display_data"
    }
   ],
   "source": [
    "# 1.1\n",
    "m, eta = 1E-2, 0.2\n",
    "kij = 1E5\n",
    "cij = 2 * eta * np.sqrt(kij * m)\n",
    "#\n",
    "pts = np.array(pts)\n",
    "edges = np.array(edges)\n",
    "# length of the spring, cos(theta), sin(theta)\n",
    "Kij = np.zeros((len(pts)*2, len(pts)*2))\n",
    "Cij = np.zeros((len(pts)*2, len(pts)*2))\n",
    "Mij = np.eye(len(pts)*2) * m\n",
    "# Mij = np.zeros((len(pts)*2, len(pts)*2))\n",
    "for p, q in edges:\n",
    "    l = np.linalg.norm(pts[p] - pts[q])\n",
    "    c = (pts[p, 0] - pts[q, 0]) / l\n",
    "    s = (pts[p, 1] - pts[q, 1]) / l\n",
    "    # print(f\"l_{n} = {l:.2f}, c_{n} = {c:.2f}, s_{n} = {s:.2f}\")\n",
    "    A = np.array([  [c**2, c * s],\n",
    "                    [c * s, s**2]])\n",
    "#\n",
    "    Kij[2*p:(2*p+2), 2*p:(2*p+2)] += +A * kij\n",
    "    Kij[2*q:(2*q+2), 2*q:(2*q+2)] += +A * kij\n",
    "    Kij[2*p:(2*p+2), 2*q:(2*q+2)] += -A * kij\n",
    "    Kij[2*q:(2*q+2), 2*p:(2*p+2)] += -A * kij\n",
    "#\n",
    "    Cij[2*p:(2*p+2), 2*p:(2*p+2)] += +A * cij\n",
    "    Cij[2*q:(2*q+2), 2*q:(2*q+2)] += +A * cij\n",
    "    Cij[2*p:(2*p+2), 2*q:(2*q+2)] += -A * cij\n",
    "    Cij[2*q:(2*q+2), 2*p:(2*p+2)] += -A * cij\n",
    "    # Mij[2*n:(2*n+4), 2*n:(2*n+4)] = np.array([[1, 0, 0, 0],\n",
    "    #                                             [0, 1, 0, 0],\n",
    "    #                                             [0, 0, 1, 0],\n",
    "    #                                             [0, 0, 0, 1]]) * m\n",
    "# \n",
    "display(pd.DataFrame(Kij))\n",
    "display(pd.DataFrame(Cij))\n",
    "display(pd.DataFrame(Mij))"
   ]
  },
  {
   "cell_type": "code",
   "execution_count": 4,
   "id": "ca16e51b98a6bda6",
   "metadata": {
    "collapsed": false,
    "ExecuteTime": {
     "end_time": "2024-01-14T08:45:24.891810512Z",
     "start_time": "2024-01-14T08:45:24.887951459Z"
    }
   },
   "outputs": [],
   "source": [
    "#\n",
    "def extU(t, nodes, u, freq):\n",
    "    #\n",
    "    __u = np.array(u)\n",
    "    __freq = np.array(freq)\n",
    "    #\n",
    "    __Ut = np.zeros((len(pts)*2, ))\n",
    "    __Ut[nodes] = __u[:, :, 0] @ np.sin(2*np.pi*__freq*t) \n",
    "    __Ut[nodes] += __u[:, :, 1] @ np.cos(2*np.pi*__freq*t)\n",
    "    # \n",
    "    __Vt = np.zeros((len(pts)*2, ))\n",
    "    __Vt[nodes] = __u[:, :, 0] * 2*np.pi*__freq @ np.cos(2*np.pi*__freq*t)\n",
    "    __Vt[nodes] += -__u[:, :, 1] * 2*np.pi*__freq @ np.sin(2*np.pi*__freq*t)\n",
    "    #\n",
    "    __At = np.zeros((len(pts)*2, ))\n",
    "    __At[nodes] = -__u[:, :, 0] * (2*np.pi*__freq)**2 @ np.sin(2*np.pi*__freq*t)\n",
    "    __At[nodes] += -__u[:, :, 1] * (2*np.pi*__freq)**2 @ np.cos(2*np.pi*__freq*t)\n",
    "    return __Ut, __Vt, __At\n",
    "\n",
    "    \n",
    "def extF(t, nodes, f, freq):\n",
    "    #\n",
    "    __f = np.array(f)\n",
    "    __freq = np.array(freq)\n",
    "    #\n",
    "    __Ft = np.zeros((len(pts)*2, ))\n",
    "    __Ft[nodes] = __f[:, :, 0] @ np.sin(2*np.pi*__freq*t)\n",
    "    __Ft[nodes] += __f[:, :, 1] @ np.cos(2*np.pi*__freq*t)\n",
    "    return __Ft\n",
    "    \n",
    "    \n",
    "def extVolForce(t,  V, freq, G):\n",
    "        # Calculate the direction of the edges\n",
    "        vec = pts[edges[:, 1], :] - pts[edges[:, 0], :]\n",
    "        norm_vec = np.linalg.norm(vec, axis=1)[:, np.newaxis]\n",
    "        vec /= norm_vec\n",
    "        # Create an empty array to store the voltage force\n",
    "        voltage_force = np.empty((edges.shape[0], 2))\n",
    "        # Assign the voltage force to the array\n",
    "        #\n",
    "        __V = np.array(V)\n",
    "        __freq = np.array(freq)\n",
    "        Vt = __V[:, :, 0] @ np.sin(2*np.pi*__freq*t)\n",
    "        Vt += __V[:, :, 1] @ np.cos(2*np.pi*__freq*t)\n",
    "        #\n",
    "        voltage_force[:, 0] = vec[:, 0] * (Vt * G)\n",
    "        voltage_force[:, 1] = vec[:, 1] * (Vt * G)\n",
    "        # Add the voltage force to the external force\n",
    "        extForces = np.zeros((len(pts), 2))\n",
    "        for n, e in enumerate(edges):\n",
    "            extForces[e[0], :] -= voltage_force[n, :]\n",
    "            extForces[e[1], :] += voltage_force[n, :]\n",
    "        return extForces.flatten()"
   ]
  },
  {
   "cell_type": "code",
   "outputs": [
    {
     "name": "stdout",
     "output_type": "stream",
     "text": [
      "[1 2]\n"
     ]
    }
   ],
   "source": [
    "Freq = [2]\n",
    "#\n",
    "UNodes = [0, 1, -1]\n",
    "U = np.zeros((len(UNodes), len(Freq), 2))\n",
    "FNodes = [0, 1, -1]\n",
    "F = np.zeros((len(FNodes), len(Freq), 2))\n",
    "#\n",
    "G = 1E-3\n",
    "V = np.zeros((len(edges), len(Freq), 2))\n",
    "V[-1] = [[10, 10]]\n",
    "print(edges[-1])\n",
    "#\n",
    "node_state = np.array([True] * len(pts)*2)\n",
    "node_state[UNodes] = False"
   ],
   "metadata": {
    "collapsed": false,
    "ExecuteTime": {
     "end_time": "2024-01-14T08:45:24.919112689Z",
     "start_time": "2024-01-14T08:45:24.890344120Z"
    }
   },
   "id": "147041d23031ed98",
   "execution_count": 5
  },
  {
   "cell_type": "code",
   "outputs": [
    {
     "name": "stdout",
     "output_type": "stream",
     "text": [
      "[ 0.    0.   -0.01  0.    0.01  0.  ]\n"
     ]
    }
   ],
   "source": [
    "_Ft = np.zeros((len(pts)*2, ))\n",
    "_Ft = extF(0, FNodes, F, Freq)\n",
    "_Ft += extVolForce(0, V, Freq, G)\n",
    "print(_Ft)"
   ],
   "metadata": {
    "collapsed": false,
    "ExecuteTime": {
     "end_time": "2024-01-14T08:45:24.969166816Z",
     "start_time": "2024-01-14T08:45:24.897128068Z"
    }
   },
   "id": "1b145785620c1a9a",
   "execution_count": 6
  },
  {
   "cell_type": "code",
   "execution_count": 7,
   "id": "4ecc8e22db8ecc0d",
   "metadata": {
    "collapsed": false,
    "ExecuteTime": {
     "end_time": "2024-01-14T08:45:24.969479021Z",
     "start_time": "2024-01-14T08:45:24.904533754Z"
    }
   },
   "outputs": [],
   "source": [
    "def derivation(t, y, K, C, M):\n",
    "    #\n",
    "    _Ft = np.zeros((len(pts)*2, ))\n",
    "    _Ft = extF(t, FNodes, F, Freq)\n",
    "    _Ft += extVolForce(t, V, Freq, G)\n",
    "    # _Ft = extF(t, Nodes, [[[0, 0], [0, 0]], [[0, 0], [0, 0]], [[2, 0], [0, 0]]], [2, 3])\n",
    "    _U, _V, _A = extU(t, UNodes, U, Freq)\n",
    "    _Ft -= np.dot(K, _U) + np.dot(C, _V) + np.dot(M, _A)\n",
    "    #\n",
    "    #\n",
    "    Ftff = _Ft[node_state]\n",
    "    Kff = Kij[node_state][:, node_state]\n",
    "    Cff = Cij[node_state][:, node_state]\n",
    "    Mff = Mij[node_state][:, node_state]\n",
    "    #\n",
    "    u = y.reshape(2, -1)[0]\n",
    "    du = y.reshape(2, -1)[1]\n",
    "    #\n",
    "    ddu = np.linalg.solve(Mff, Ftff-np.dot(Cff, du) - np.dot(Kff, u))\n",
    "    \n",
    "    return np.concatenate([du, ddu])\n"
   ]
  },
  {
   "cell_type": "code",
   "execution_count": 11,
   "id": "8b6c9032c7260d1c",
   "metadata": {
    "collapsed": false,
    "ExecuteTime": {
     "end_time": "2024-01-14T08:45:51.697891217Z",
     "start_time": "2024-01-14T08:45:48.957552678Z"
    }
   },
   "outputs": [],
   "source": [
    "from scipy.integrate import solve_ivp\n",
    "y0 = np.zeros(((len(pts)*2-len(UNodes))*2))\n",
    "sol = solve_ivp(lambda __t, __y: derivation(__t, __y, Kij, Cij, Mij), [0, 3], y0=y0, t_eval=np.linspace(0, 3, 1000))\n",
    "# Displacement\n",
    "disp = np.zeros((len(pts)*2, 2, len(sol.t)))\n",
    "disp[node_state, 0] = sol.y[:len(sol.y)//2] \n",
    "# disp[0,~node_state,:]\n",
    "disp[node_state, 1] = sol.y[-len(sol.y)//2:]"
   ]
  },
  {
   "cell_type": "code",
   "execution_count": 9,
   "id": "2deb91a9ded6a6b1",
   "metadata": {
    "collapsed": false,
    "ExecuteTime": {
     "end_time": "2024-01-14T08:45:27.829875011Z",
     "start_time": "2024-01-14T08:45:27.772418913Z"
    }
   },
   "outputs": [
    {
     "data": {
      "text/plain": "<Figure size 640x480 with 1 Axes>",
      "image/png": "[encoded data removed]"
     },
     "metadata": {},
     "output_type": "display_data"
    }
   ],
   "source": [
    "import matplotlib.pyplot as plt\n",
    "\n",
    "plt.plot(sol.t, disp[-2, 0])\n",
    "plt.show()"
   ]
  },
  {
   "cell_type": "code",
   "outputs": [],
   "source": [
    "# \"\"\"\n",
    "# use mph package to create a transient model for the truss structure\n",
    "# \"\"\"\n",
    "# import mph\n",
    "# \n",
    "# # create a COMSOL client\n",
    "# client = mph.start()\n",
    "# pymodel = client.create(\"Model\")\n",
    "# model = pymodel.java  # create a COMSOL model\n",
    "# \n",
    "# # create a 2D geometry\n",
    "# model.modelNode().create(\"comp1\")\n",
    "# model.geom().create(\"geom1\", 2)\n",
    "# model.component(\"comp1\").mesh().create(\"mesh1\")\n",
    "# \n",
    "# # Points and lines\n",
    "# for n, p in enumerate(pts):\n",
    "#     model.geom(\"geom1\").feature().create(f\"pt{n+1}\", \"Point\")\n",
    "#     model.geom(\"geom1\").feature(f\"pt{n+1}\").setIndex(\"p\", p[0], 0)\n",
    "#     model.geom(\"geom1\").feature(f\"pt{n+1}\").setIndex(\"p\", p[1], 1)\n",
    "#     model.geom(\"geom1\").run(f\"pt{n+1}\")\n",
    "# \n",
    "# for m, (i, j) in enumerate(edges):\n",
    "#     model.geom(\"geom1\").feature().create(f\"ls{m+1}\", \"LineSegment\")\n",
    "#     model.geom(\"geom1\").feature(f\"ls{m+1}\").selection(\"vertex1\").set(f\"pt{i+1}\", 1)\n",
    "#     model.geom(\"geom1\").feature(f\"ls{m+1}\").selection(\"vertex2\").set(f\"pt{j+1}\", 1)\n",
    "#     model.geom(\"geom1\").run(f\"ls{m+1}\")\n",
    "# #\n",
    "# model.geom(\"geom1\").run(\"fin\")\n",
    "# \n",
    "# #\n",
    "# model.component(\"comp1\").physics().create(\"truss\", \"Truss\", \"geom1\")\n",
    "# model.component(\"comp1\").physics(\"truss\").create(\"spdm1\", \"SpringDamperMaterial\", 1)\n",
    "# # Set with the line labels\n",
    "# \n",
    "# \n",
    "# # Save the model\n",
    "# model.save(\"truss.mph\")\n"
   ],
   "metadata": {
    "collapsed": false,
    "ExecuteTime": {
     "end_time": "2024-01-14T08:45:27.830231775Z",
     "start_time": "2024-01-14T08:45:27.824005606Z"
    }
   },
   "id": "58426ac4516b1df5",
   "execution_count": 10
  },
  {
   "cell_type": "code",
   "outputs": [],
   "source": [],
   "metadata": {
    "collapsed": false,
    "ExecuteTime": {
     "end_time": "2024-01-14T08:45:27.878429583Z",
     "start_time": "2024-01-14T08:45:27.825983459Z"
    }
   },
   "id": "bc6316029a8ad60a",
   "execution_count": 10
  }
 ],
 "metadata": {
  "kernelspec": {
   "display_name": "Python 3",
   "language": "python",
   "name": "python3"
  },
  "language_info": {
   "codemirror_mode": {
    "name": "ipython",
    "version": 3
   },
   "file_extension": ".py",
   "mimetype": "text/x-python",
   "name": "python",
   "nbconvert_exporter": "python",
   "pygments_lexer": "ipython3",
   "version": "3.11.5"
  }
 },
 "nbformat": 4,
 "nbformat_minor": 5
}
