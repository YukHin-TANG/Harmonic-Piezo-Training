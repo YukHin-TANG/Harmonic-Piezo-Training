{
 "cells": [
  {
   "cell_type": "code",
   "execution_count": 1,
   "id": "initial_id",
   "metadata": {
    "collapsed": true,
    "ExecuteTime": {
     "end_time": "2024-01-11T14:46:30.785065922Z",
     "start_time": "2024-01-11T14:46:30.292629816Z"
    }
   },
   "outputs": [],
   "source": [
    "import matplotlib.pyplot as plt\n",
    "import numpy as np\n",
    "import pandas as pd\n",
    "import sympy "
   ]
  },
  {
   "cell_type": "code",
   "outputs": [
    {
     "name": "stdout",
     "output_type": "stream",
     "text": [
      "l_0 = 1.41, c_0 = 0.71, s_0 = 0.71\n",
      "l_1 = 1.41, c_1 = 0.71, s_1 = 0.71\n",
      "l_2 = 1.41, c_2 = 0.71, s_2 = 0.71\n"
     ]
    },
    {
     "data": {
      "text/plain": "         0        1         2         3         4         5        6        7\n0  50000.0  50000.0  -50000.0  -50000.0       0.0       0.0      0.0      0.0\n1  50000.0  50000.0  -50000.0  -50000.0       0.0       0.0      0.0      0.0\n2 -50000.0 -50000.0  100000.0  100000.0  -50000.0  -50000.0      0.0      0.0\n3 -50000.0 -50000.0  100000.0  100000.0  -50000.0  -50000.0      0.0      0.0\n4      0.0      0.0  -50000.0  -50000.0  100000.0  100000.0 -50000.0 -50000.0\n5      0.0      0.0  -50000.0  -50000.0  100000.0  100000.0 -50000.0 -50000.0\n6      0.0      0.0       0.0       0.0  -50000.0  -50000.0  50000.0  50000.0\n7      0.0      0.0       0.0       0.0  -50000.0  -50000.0  50000.0  50000.0",
      "text/html": "<div>\n<style scoped>\n    .dataframe tbody tr th:only-of-type {\n        vertical-align: middle;\n    }\n\n    .dataframe tbody tr th {\n        vertical-align: top;\n    }\n\n    .dataframe thead th {\n        text-align: right;\n    }\n</style>\n<table border=\"1\" class=\"dataframe\">\n  <thead>\n    <tr style=\"text-align: right;\">\n      <th></th>\n      <th>0</th>\n      <th>1</th>\n      <th>2</th>\n      <th>3</th>\n      <th>4</th>\n      <th>5</th>\n      <th>6</th>\n      <th>7</th>\n    </tr>\n  </thead>\n  <tbody>\n    <tr>\n      <th>0</th>\n      <td>50000.0</td>\n      <td>50000.0</td>\n      <td>-50000.0</td>\n      <td>-50000.0</td>\n      <td>0.0</td>\n      <td>0.0</td>\n      <td>0.0</td>\n      <td>0.0</td>\n    </tr>\n    <tr>\n      <th>1</th>\n      <td>50000.0</td>\n      <td>50000.0</td>\n      <td>-50000.0</td>\n      <td>-50000.0</td>\n      <td>0.0</td>\n      <td>0.0</td>\n      <td>0.0</td>\n      <td>0.0</td>\n    </tr>\n    <tr>\n      <th>2</th>\n      <td>-50000.0</td>\n      <td>-50000.0</td>\n      <td>100000.0</td>\n      <td>100000.0</td>\n      <td>-50000.0</td>\n      <td>-50000.0</td>\n      <td>0.0</td>\n      <td>0.0</td>\n    </tr>\n    <tr>\n      <th>3</th>\n      <td>-50000.0</td>\n      <td>-50000.0</td>\n      <td>100000.0</td>\n      <td>100000.0</td>\n      <td>-50000.0</td>\n      <td>-50000.0</td>\n      <td>0.0</td>\n      <td>0.0</td>\n    </tr>\n    <tr>\n      <th>4</th>\n      <td>0.0</td>\n      <td>0.0</td>\n      <td>-50000.0</td>\n      <td>-50000.0</td>\n      <td>100000.0</td>\n      <td>100000.0</td>\n      <td>-50000.0</td>\n      <td>-50000.0</td>\n    </tr>\n    <tr>\n      <th>5</th>\n      <td>0.0</td>\n      <td>0.0</td>\n      <td>-50000.0</td>\n      <td>-50000.0</td>\n      <td>100000.0</td>\n      <td>100000.0</td>\n      <td>-50000.0</td>\n      <td>-50000.0</td>\n    </tr>\n    <tr>\n      <th>6</th>\n      <td>0.0</td>\n      <td>0.0</td>\n      <td>0.0</td>\n      <td>0.0</td>\n      <td>-50000.0</td>\n      <td>-50000.0</td>\n      <td>50000.0</td>\n      <td>50000.0</td>\n    </tr>\n    <tr>\n      <th>7</th>\n      <td>0.0</td>\n      <td>0.0</td>\n      <td>0.0</td>\n      <td>0.0</td>\n      <td>-50000.0</td>\n      <td>-50000.0</td>\n      <td>50000.0</td>\n      <td>50000.0</td>\n    </tr>\n  </tbody>\n</table>\n</div>"
     },
     "metadata": {},
     "output_type": "display_data"
    },
    {
     "data": {
      "text/plain": "          0         1          2          3          4          5         6  \\\n0  9.486833  9.486833  -9.486833  -9.486833   0.000000   0.000000  0.000000   \n1  9.486833  9.486833  -9.486833  -9.486833   0.000000   0.000000  0.000000   \n2 -9.486833 -9.486833  18.973666  18.973666  -9.486833  -9.486833  0.000000   \n3 -9.486833 -9.486833  18.973666  18.973666  -9.486833  -9.486833  0.000000   \n4  0.000000  0.000000  -9.486833  -9.486833  18.973666  18.973666 -9.486833   \n5  0.000000  0.000000  -9.486833  -9.486833  18.973666  18.973666 -9.486833   \n6  0.000000  0.000000   0.000000   0.000000  -9.486833  -9.486833  9.486833   \n7  0.000000  0.000000   0.000000   0.000000  -9.486833  -9.486833  9.486833   \n\n          7  \n0  0.000000  \n1  0.000000  \n2  0.000000  \n3  0.000000  \n4 -9.486833  \n5 -9.486833  \n6  9.486833  \n7  9.486833  ",
      "text/html": "<div>\n<style scoped>\n    .dataframe tbody tr th:only-of-type {\n        vertical-align: middle;\n    }\n\n    .dataframe tbody tr th {\n        vertical-align: top;\n    }\n\n    .dataframe thead th {\n        text-align: right;\n    }\n</style>\n<table border=\"1\" class=\"dataframe\">\n  <thead>\n    <tr style=\"text-align: right;\">\n      <th></th>\n      <th>0</th>\n      <th>1</th>\n      <th>2</th>\n      <th>3</th>\n      <th>4</th>\n      <th>5</th>\n      <th>6</th>\n      <th>7</th>\n    </tr>\n  </thead>\n  <tbody>\n    <tr>\n      <th>0</th>\n      <td>9.486833</td>\n      <td>9.486833</td>\n      <td>-9.486833</td>\n      <td>-9.486833</td>\n      <td>0.000000</td>\n      <td>0.000000</td>\n      <td>0.000000</td>\n      <td>0.000000</td>\n    </tr>\n    <tr>\n      <th>1</th>\n      <td>9.486833</td>\n      <td>9.486833</td>\n      <td>-9.486833</td>\n      <td>-9.486833</td>\n      <td>0.000000</td>\n      <td>0.000000</td>\n      <td>0.000000</td>\n      <td>0.000000</td>\n    </tr>\n    <tr>\n      <th>2</th>\n      <td>-9.486833</td>\n      <td>-9.486833</td>\n      <td>18.973666</td>\n      <td>18.973666</td>\n      <td>-9.486833</td>\n      <td>-9.486833</td>\n      <td>0.000000</td>\n      <td>0.000000</td>\n    </tr>\n    <tr>\n      <th>3</th>\n      <td>-9.486833</td>\n      <td>-9.486833</td>\n      <td>18.973666</td>\n      <td>18.973666</td>\n      <td>-9.486833</td>\n      <td>-9.486833</td>\n      <td>0.000000</td>\n      <td>0.000000</td>\n    </tr>\n    <tr>\n      <th>4</th>\n      <td>0.000000</td>\n      <td>0.000000</td>\n      <td>-9.486833</td>\n      <td>-9.486833</td>\n      <td>18.973666</td>\n      <td>18.973666</td>\n      <td>-9.486833</td>\n      <td>-9.486833</td>\n    </tr>\n    <tr>\n      <th>5</th>\n      <td>0.000000</td>\n      <td>0.000000</td>\n      <td>-9.486833</td>\n      <td>-9.486833</td>\n      <td>18.973666</td>\n      <td>18.973666</td>\n      <td>-9.486833</td>\n      <td>-9.486833</td>\n    </tr>\n    <tr>\n      <th>6</th>\n      <td>0.000000</td>\n      <td>0.000000</td>\n      <td>0.000000</td>\n      <td>0.000000</td>\n      <td>-9.486833</td>\n      <td>-9.486833</td>\n      <td>9.486833</td>\n      <td>9.486833</td>\n    </tr>\n    <tr>\n      <th>7</th>\n      <td>0.000000</td>\n      <td>0.000000</td>\n      <td>0.000000</td>\n      <td>0.000000</td>\n      <td>-9.486833</td>\n      <td>-9.486833</td>\n      <td>9.486833</td>\n      <td>9.486833</td>\n    </tr>\n  </tbody>\n</table>\n</div>"
     },
     "metadata": {},
     "output_type": "display_data"
    },
    {
     "data": {
      "text/plain": "      0     1     2     3     4     5     6     7\n0  0.01  0.00  0.00  0.00  0.00  0.00  0.00  0.00\n1  0.00  0.01  0.00  0.00  0.00  0.00  0.00  0.00\n2  0.00  0.00  0.01  0.00  0.00  0.00  0.00  0.00\n3  0.00  0.00  0.00  0.01  0.00  0.00  0.00  0.00\n4  0.00  0.00  0.00  0.00  0.01  0.00  0.00  0.00\n5  0.00  0.00  0.00  0.00  0.00  0.01  0.00  0.00\n6  0.00  0.00  0.00  0.00  0.00  0.00  0.01  0.00\n7  0.00  0.00  0.00  0.00  0.00  0.00  0.00  0.01",
      "text/html": "<div>\n<style scoped>\n    .dataframe tbody tr th:only-of-type {\n        vertical-align: middle;\n    }\n\n    .dataframe tbody tr th {\n        vertical-align: top;\n    }\n\n    .dataframe thead th {\n        text-align: right;\n    }\n</style>\n<table border=\"1\" class=\"dataframe\">\n  <thead>\n    <tr style=\"text-align: right;\">\n      <th></th>\n      <th>0</th>\n      <th>1</th>\n      <th>2</th>\n      <th>3</th>\n      <th>4</th>\n      <th>5</th>\n      <th>6</th>\n      <th>7</th>\n    </tr>\n  </thead>\n  <tbody>\n    <tr>\n      <th>0</th>\n      <td>0.01</td>\n      <td>0.00</td>\n      <td>0.00</td>\n      <td>0.00</td>\n      <td>0.00</td>\n      <td>0.00</td>\n      <td>0.00</td>\n      <td>0.00</td>\n    </tr>\n    <tr>\n      <th>1</th>\n      <td>0.00</td>\n      <td>0.01</td>\n      <td>0.00</td>\n      <td>0.00</td>\n      <td>0.00</td>\n      <td>0.00</td>\n      <td>0.00</td>\n      <td>0.00</td>\n    </tr>\n    <tr>\n      <th>2</th>\n      <td>0.00</td>\n      <td>0.00</td>\n      <td>0.01</td>\n      <td>0.00</td>\n      <td>0.00</td>\n      <td>0.00</td>\n      <td>0.00</td>\n      <td>0.00</td>\n    </tr>\n    <tr>\n      <th>3</th>\n      <td>0.00</td>\n      <td>0.00</td>\n      <td>0.00</td>\n      <td>0.01</td>\n      <td>0.00</td>\n      <td>0.00</td>\n      <td>0.00</td>\n      <td>0.00</td>\n    </tr>\n    <tr>\n      <th>4</th>\n      <td>0.00</td>\n      <td>0.00</td>\n      <td>0.00</td>\n      <td>0.00</td>\n      <td>0.01</td>\n      <td>0.00</td>\n      <td>0.00</td>\n      <td>0.00</td>\n    </tr>\n    <tr>\n      <th>5</th>\n      <td>0.00</td>\n      <td>0.00</td>\n      <td>0.00</td>\n      <td>0.00</td>\n      <td>0.00</td>\n      <td>0.01</td>\n      <td>0.00</td>\n      <td>0.00</td>\n    </tr>\n    <tr>\n      <th>6</th>\n      <td>0.00</td>\n      <td>0.00</td>\n      <td>0.00</td>\n      <td>0.00</td>\n      <td>0.00</td>\n      <td>0.00</td>\n      <td>0.01</td>\n      <td>0.00</td>\n    </tr>\n    <tr>\n      <th>7</th>\n      <td>0.00</td>\n      <td>0.00</td>\n      <td>0.00</td>\n      <td>0.00</td>\n      <td>0.00</td>\n      <td>0.00</td>\n      <td>0.00</td>\n      <td>0.01</td>\n    </tr>\n  </tbody>\n</table>\n</div>"
     },
     "metadata": {},
     "output_type": "display_data"
    }
   ],
   "source": [
    "# 1.1\n",
    "m, eta = 1E-2, 0.3\n",
    "kij = 1E5\n",
    "cij = 2 * eta * np.sqrt(kij * m)\n",
    "pts = np.array([[0, 0], [1, 1], [2, 2],[3, 3]])\n",
    "# length of the spring, cos(theta), sin(theta)\n",
    "Kij = np.zeros((len(pts)*2, len(pts)*2))\n",
    "Cij = np.zeros((len(pts)*2, len(pts)*2))\n",
    "Mij = np.eye(len(pts)*2) * m\n",
    "# Mij = np.zeros((len(pts)*2, len(pts)*2))\n",
    "for n in range(len(pts)-1):\n",
    "    l = np.linalg.norm(pts[n+1] - pts[n])\n",
    "    c = (pts[n+1, 0] - pts[n, 0]) / l\n",
    "    s = (pts[n+1, 1] - pts[n, 1]) / l\n",
    "    print(f\"l_{n} = {l:.2f}, c_{n} = {c:.2f}, s_{n} = {s:.2f}\")\n",
    "#\n",
    "    Kij[2*n:(2*n+4), 2*n:(2*n+4)] += np.array([[c**2, c * s, -c**2, -c * s],\n",
    "                                                [c * s, s**2, -c * s, -s**2],\n",
    "                                                [-c**2, -c * s, c**2, c * s],\n",
    "                                                [-c * s, -s**2, c * s, s**2]]) * kij\n",
    "    Cij[2*n:(2*n+4), 2*n:(2*n+4)] += np.array([[c**2, c * s, -c**2, -c * s],\n",
    "                                                [c * s, s**2, -c * s, -s**2],\n",
    "                                                [-c**2, -c * s, c**2, c * s],\n",
    "                                                [-c * s, -s**2, c * s, s**2]]) * cij\n",
    "    # Mij[2*n:(2*n+4), 2*n:(2*n+4)] = np.array([[1, 0, 0, 0],\n",
    "    #                                             [0, 1, 0, 0],\n",
    "    #                                             [0, 0, 1, 0],\n",
    "    #                                             [0, 0, 0, 1]]) * m\n",
    "# \n",
    "display(pd.DataFrame(Kij))\n",
    "display(pd.DataFrame(Cij))\n",
    "display(pd.DataFrame(Mij))"
   ],
   "metadata": {
    "collapsed": false,
    "ExecuteTime": {
     "end_time": "2024-01-11T14:46:30.786272317Z",
     "start_time": "2024-01-11T14:46:30.779076870Z"
    }
   },
   "id": "cab31919996f43ea",
   "execution_count": 2
  },
  {
   "cell_type": "code",
   "outputs": [
    {
     "name": "stdout",
     "output_type": "stream",
     "text": [
      "[[100000. 100000. -50000. -50000.      0.      0.]\n",
      " [100000. 100000. -50000. -50000.      0.      0.]\n",
      " [-50000. -50000. 100000. 100000. -50000. -50000.]\n",
      " [-50000. -50000. 100000. 100000. -50000. -50000.]\n",
      " [     0.      0. -50000. -50000.  50000.  50000.]\n",
      " [     0.      0. -50000. -50000.  50000.  50000.]]\n",
      "[[18.97366596 18.97366596 -9.48683298 -9.48683298  0.          0.        ]\n",
      " [18.97366596 18.97366596 -9.48683298 -9.48683298  0.          0.        ]\n",
      " [-9.48683298 -9.48683298 18.97366596 18.97366596 -9.48683298 -9.48683298]\n",
      " [-9.48683298 -9.48683298 18.97366596 18.97366596 -9.48683298 -9.48683298]\n",
      " [ 0.          0.         -9.48683298 -9.48683298  9.48683298  9.48683298]\n",
      " [ 0.          0.         -9.48683298 -9.48683298  9.48683298  9.48683298]]\n",
      "[[0.01 0.   0.   0.   0.   0.  ]\n",
      " [0.   0.01 0.   0.   0.   0.  ]\n",
      " [0.   0.   0.01 0.   0.   0.  ]\n",
      " [0.   0.   0.   0.01 0.   0.  ]\n",
      " [0.   0.   0.   0.   0.01 0.  ]\n",
      " [0.   0.   0.   0.   0.   0.01]]\n"
     ]
    }
   ],
   "source": [
    "Kff = Kij[2:][:, 2:]\n",
    "Cff = Cij[2:][:, 2:]\n",
    "Mff = Mij[2:][:, 2:]\n",
    "print(Kff)\n",
    "print(Cff)\n",
    "print(Mff)"
   ],
   "metadata": {
    "collapsed": false,
    "ExecuteTime": {
     "end_time": "2024-01-11T14:46:30.786745687Z",
     "start_time": "2024-01-11T14:46:30.779242822Z"
    }
   },
   "id": "ca16e51b98a6bda6",
   "execution_count": 3
  },
  {
   "cell_type": "code",
   "outputs": [],
   "source": [
    "# y = np.array([[0, 0, np.nan, np.nan, np.nan, np.nan],\n",
    "#               [0, 0, np.nan, np.nan, np.nan, np.nan]]).flatten()\n",
    "# print(y)"
   ],
   "metadata": {
    "collapsed": false,
    "ExecuteTime": {
     "end_time": "2024-01-11T14:46:30.787121502Z",
     "start_time": "2024-01-11T14:46:30.779272979Z"
    }
   },
   "id": "c7a76272d684db0a",
   "execution_count": 4
  },
  {
   "cell_type": "code",
   "outputs": [],
   "source": [
    "# fixed_node = (y.reshape(2, -1)[0] == 0)\n",
    "# print(fixed_node)\n",
    "# free_node = ~fixed_node\n",
    "# #\n",
    "# Kff = Kij[free_node][:, free_node]\n",
    "# Cff = Cij[free_node][:, free_node]\n",
    "# Mff = Mij[free_node][:, free_node]\n",
    "# #\n",
    "# print(Kff)\n",
    "# print(Cff)\n",
    "# print(Mff)\n"
   ],
   "metadata": {
    "collapsed": false,
    "ExecuteTime": {
     "end_time": "2024-01-11T14:46:30.787305498Z",
     "start_time": "2024-01-11T14:46:30.779288979Z"
    }
   },
   "id": "36d30f8e3bfaef60",
   "execution_count": 5
  },
  {
   "cell_type": "code",
   "outputs": [
    {
     "name": "stdout",
     "output_type": "stream",
     "text": [
      "[  0.   0.   0.   0. 100. 100.]\n"
     ]
    }
   ],
   "source": [
    "Ft = np.zeros((len(pts)*2-2, ))\n",
    "Ft[-2:] = 100\n",
    "print(Ft)"
   ],
   "metadata": {
    "collapsed": false,
    "ExecuteTime": {
     "end_time": "2024-01-11T14:46:30.787501419Z",
     "start_time": "2024-01-11T14:46:30.779304851Z"
    }
   },
   "id": "157b3b29b522c540",
   "execution_count": 6
  },
  {
   "cell_type": "code",
   "outputs": [],
   "source": [
    "def ode(t, y, K, C, M):\n",
    "    #\n",
    "    u = y.reshape(2, -1)[0]\n",
    "    du = y.reshape(2, -1)[1]\n",
    "    #\n",
    "    ddu = np.linalg.solve(M, Ft-np.dot(C, du) - np.dot(K, u))\n",
    "    \n",
    "    return np.concatenate([du, ddu])\n"
   ],
   "metadata": {
    "collapsed": false,
    "ExecuteTime": {
     "end_time": "2024-01-11T14:46:30.787637444Z",
     "start_time": "2024-01-11T14:46:30.779322067Z"
    }
   },
   "id": "4ecc8e22db8ecc0d",
   "execution_count": 7
  },
  {
   "cell_type": "code",
   "outputs": [],
   "source": [
    "# 固定点抹去，只能求解力的响应，拼接方式和刚度矩阵一致"
   ],
   "metadata": {
    "collapsed": false,
    "ExecuteTime": {
     "end_time": "2024-01-11T14:46:30.787762683Z",
     "start_time": "2024-01-11T14:46:30.781268754Z"
    }
   },
   "id": "121e229d53cefae8",
   "execution_count": 8
  },
  {
   "cell_type": "code",
   "outputs": [],
   "source": [
    "from scipy.integrate import solve_ivp\n",
    "y0 = np.zeros((len(pts)*2*2-4))\n",
    "sol = solve_ivp(lambda __t, __y: ode(__t, __y, Kff, Cff, Mff), [0, .1], y0=y0, t_eval=np.linspace(0, .1, 1000))"
   ],
   "metadata": {
    "collapsed": false,
    "ExecuteTime": {
     "end_time": "2024-01-11T14:46:30.978561188Z",
     "start_time": "2024-01-11T14:46:30.785623901Z"
    }
   },
   "id": "8b6c9032c7260d1c",
   "execution_count": 9
  },
  {
   "cell_type": "code",
   "outputs": [
    {
     "name": "stdout",
     "output_type": "stream",
     "text": [
      "0.0020000001403319453\n"
     ]
    },
    {
     "data": {
      "text/plain": "<Figure size 640x480 with 1 Axes>",
      "image/png": "[encoded data removed]"
     },
     "metadata": {},
     "output_type": "display_data"
    }
   ],
   "source": [
    "import matplotlib.pyplot as plt\n",
    "\n",
    "plt.plot(sol.t, sol.y[3])\n",
    "print(sol.y[3, -1])\n",
    "# plt.plot(sol.t, sol.y[4])\n",
    "plt.show()"
   ],
   "metadata": {
    "collapsed": false,
    "ExecuteTime": {
     "end_time": "2024-01-11T14:46:59.188680545Z",
     "start_time": "2024-01-11T14:46:59.097927617Z"
    }
   },
   "id": "2deb91a9ded6a6b1",
   "execution_count": 12
  },
  {
   "cell_type": "code",
   "outputs": [
    {
     "data": {
      "text/plain": "<Figure size 640x480 with 1 Axes>",
      "image/png": "[encoded data removed]"
     },
     "metadata": {},
     "output_type": "display_data"
    }
   ],
   "source": [
    "import numpy as np\n",
    "import matplotlib.pyplot as plt\n",
    "import scipy \n",
    "\n",
    "# 定义系统参数\n",
    "M = np.diag([1, 1])  # 质量矩阵\n",
    "K = np.diag([100, 100])  # 刚度矩阵\n",
    "C = np.diag([10, 10])  # 阻尼矩阵\n",
    "F = np.zeros((2, ))  # 外力向量\n",
    "\n",
    "# 建立运动方程\n",
    "A = np.block([[np.zeros((2, 2)), np.eye(2)], [-np.linalg.inv(M) @ K, -np.linalg.inv(M) @ C]])\n",
    "B = np.block([[np.zeros((2, 2))], [np.linalg.inv(M)]])\n",
    "\n",
    "# 求解运动方程\n",
    "t = np.linspace(0, 10, 1000)  # 时间范围\n",
    "x0 = np.zeros((4, ))  # 初始条件\n",
    "X= scipy.integrate.odeint(lambda x, t: np.dot(A, x) + np.dot(B, F), x0, t, rtol=1e-6, atol=1e-8)\n",
    "\n",
    "# 分析系统动力学\n",
    "plt.plot(t, X[:, 0], label='x1')\n",
    "plt.plot(t, X[:, 1], label='x2')\n",
    "plt.xlabel('Time (s)')\n",
    "plt.ylabel('Displacement (m)')\n",
    "plt.legend()\n",
    "plt.show()"
   ],
   "metadata": {
    "collapsed": false,
    "ExecuteTime": {
     "end_time": "2024-01-11T14:46:31.121460952Z",
     "start_time": "2024-01-11T14:46:31.028371576Z"
    }
   },
   "id": "6b3033f0cbe099e1",
   "execution_count": 11
  },
  {
   "cell_type": "code",
   "outputs": [],
   "source": [],
   "metadata": {
    "collapsed": false,
    "ExecuteTime": {
     "end_time": "2024-01-11T14:46:31.121702364Z",
     "start_time": "2024-01-11T14:46:31.119178076Z"
    }
   },
   "id": "f032b1564e51b26c",
   "execution_count": 11
  }
 ],
 "metadata": {
  "kernelspec": {
   "display_name": "Python 3",
   "language": "python",
   "name": "python3"
  },
  "language_info": {
   "codemirror_mode": {
    "name": "ipython",
    "version": 2
   },
   "file_extension": ".py",
   "mimetype": "text/x-python",
   "name": "python",
   "nbconvert_exporter": "python",
   "pygments_lexer": "ipython2",
   "version": "2.7.6"
  }
 },
 "nbformat": 4,
 "nbformat_minor": 5
}
